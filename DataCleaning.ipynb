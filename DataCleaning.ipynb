{
  "nbformat": 4,
  "nbformat_minor": 0,
  "metadata": {
    "colab": {
      "provenance": [],
      "gpuType": "T4"
    },
    "kernelspec": {
      "name": "python3",
      "display_name": "Python 3"
    },
    "language_info": {
      "name": "python"
    },
    "accelerator": "GPU"
  },
  "cells": [
    {
      "cell_type": "code",
      "execution_count": 1,
      "metadata": {
        "id": "mhmu4eKJgTzA"
      },
      "outputs": [],
      "source": [
        "import pandas as pd\n",
        "import numpy as np\n"
      ]
    },
    {
      "cell_type": "code",
      "source": [
        "df = pd.read_csv('/content/Iris.csv')"
      ],
      "metadata": {
        "id": "LIZwr5VXgbWA"
      },
      "execution_count": 2,
      "outputs": []
    },
    {
      "cell_type": "code",
      "source": [
        "print(\"Original Data:\")\n",
        "print(df.head())"
      ],
      "metadata": {
        "colab": {
          "base_uri": "https://localhost:8080/"
        },
        "id": "X6Mu5aMdglNP",
        "outputId": "192717f4-706a-4a90-9f4e-0f2488468578"
      },
      "execution_count": 3,
      "outputs": [
        {
          "output_type": "stream",
          "name": "stdout",
          "text": [
            "Original Data:\n",
            "   Id  SepalLengthCm  SepalWidthCm  PetalLengthCm  PetalWidthCm      Species\n",
            "0   1            5.1           3.5            1.4           0.2  Iris-setosa\n",
            "1   2            4.9           3.0            1.4           0.2  Iris-setosa\n",
            "2   3            4.7           3.2            1.3           0.2  Iris-setosa\n",
            "3   4            4.6           3.1            1.5           0.2  Iris-setosa\n",
            "4   5            5.0           3.6            1.4           0.2  Iris-setosa\n"
          ]
        }
      ]
    },
    {
      "cell_type": "code",
      "source": [
        "df_cleaned = df.dropna()"
      ],
      "metadata": {
        "id": "iAp1wUbLgsBY"
      },
      "execution_count": 4,
      "outputs": []
    },
    {
      "cell_type": "code",
      "source": [
        "df_cleaned = df_cleaned.drop_duplicates()"
      ],
      "metadata": {
        "id": "UdEs8oBVgvwv"
      },
      "execution_count": 5,
      "outputs": []
    },
    {
      "cell_type": "code",
      "source": [
        "df_cleaned['SepalLengthCm'] = pd.to_numeric(df_cleaned['SepalLengthCm'], errors='coerce')"
      ],
      "metadata": {
        "id": "JhCJYOfsgzBg"
      },
      "execution_count": 7,
      "outputs": []
    },
    {
      "cell_type": "code",
      "source": [
        "df_cleaned = df_cleaned[np.abs(df_cleaned['SepalLengthCm'] - df_cleaned['SepalLengthCm'].mean()) <= (3 * df_cleaned['SepalLengthCm'].std())]"
      ],
      "metadata": {
        "id": "LZGzNpCjhRFw"
      },
      "execution_count": 10,
      "outputs": []
    },
    {
      "cell_type": "code",
      "source": [
        "df_cleaned = pd.get_dummies(df_cleaned, columns=['Species'])\n"
      ],
      "metadata": {
        "id": "XeNubyCThVpm"
      },
      "execution_count": 16,
      "outputs": []
    },
    {
      "cell_type": "code",
      "source": [
        "print(\"\\nCleaned Data:\")\n",
        "print(df_cleaned.head())"
      ],
      "metadata": {
        "colab": {
          "base_uri": "https://localhost:8080/"
        },
        "id": "i2n6uEb1hrF_",
        "outputId": "edfe8b4d-bec0-4bf7-a567-0ca650df109c"
      },
      "execution_count": 17,
      "outputs": [
        {
          "output_type": "stream",
          "name": "stdout",
          "text": [
            "\n",
            "Cleaned Data:\n",
            "   Id  SepalLengthCm  SepalWidthCm  PetalLengthCm  PetalWidthCm  \\\n",
            "0   1            5.1           3.5            1.4           0.2   \n",
            "1   2            4.9           3.0            1.4           0.2   \n",
            "2   3            4.7           3.2            1.3           0.2   \n",
            "3   4            4.6           3.1            1.5           0.2   \n",
            "4   5            5.0           3.6            1.4           0.2   \n",
            "\n",
            "   Species_Iris-setosa  Species_Iris-versicolor  Species_Iris-virginica  \n",
            "0                 True                    False                   False  \n",
            "1                 True                    False                   False  \n",
            "2                 True                    False                   False  \n",
            "3                 True                    False                   False  \n",
            "4                 True                    False                   False  \n"
          ]
        }
      ]
    },
    {
      "cell_type": "code",
      "source": [
        "df_cleaned.to_csv('cleaned_dataset.csv', index=False)"
      ],
      "metadata": {
        "id": "vDNa_cvJicAf"
      },
      "execution_count": 18,
      "outputs": []
    }
  ]
}